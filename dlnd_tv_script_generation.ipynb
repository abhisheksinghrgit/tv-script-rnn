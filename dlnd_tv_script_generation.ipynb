{
 "cells": [
  {
   "cell_type": "markdown",
   "metadata": {
    "deletable": true,
    "editable": true
   },
   "source": [
    "# TV Script Generation\n",
    "In this project, you'll generate your own [Simpsons](https://en.wikipedia.org/wiki/The_Simpsons) TV scripts using RNNs.  You'll be using part of the [Simpsons dataset](https://www.kaggle.com/wcukierski/the-simpsons-by-the-data) of scripts from 27 seasons.  The Neural Network you'll build will generate a new TV script for a scene at [Moe's Tavern](https://simpsonswiki.com/wiki/Moe's_Tavern).\n",
    "## Get the Data\n",
    "The data is already provided for you.  You'll be using a subset of the original dataset.  It consists of only the scenes in Moe's Tavern.  This doesn't include other versions of the tavern, like \"Moe's Cavern\", \"Flaming Moe's\", \"Uncle Moe's Family Feed-Bag\", etc.."
   ]
  },
  {
   "cell_type": "code",
   "execution_count": 12,
   "metadata": {
    "collapsed": false,
    "deletable": true,
    "editable": true
   },
   "outputs": [],
   "source": [
    "\"\"\"\n",
    "DON'T MODIFY ANYTHING IN THIS CELL\n",
    "\"\"\"\n",
    "import helper\n",
    "\n",
    "data_dir = './data/simpsons/moes_tavern_lines.txt'\n",
    "text = helper.load_data(data_dir)\n",
    "# Ignore notice, since we don't use it for analysing the data\n",
    "text = text[81:]"
   ]
  },
  {
   "cell_type": "markdown",
   "metadata": {
    "deletable": true,
    "editable": true
   },
   "source": [
    "## Explore the Data\n",
    "Play around with `view_sentence_range` to view different parts of the data."
   ]
  },
  {
   "cell_type": "code",
   "execution_count": 13,
   "metadata": {
    "collapsed": false,
    "deletable": true,
    "editable": true
   },
   "outputs": [
    {
     "name": "stdout",
     "output_type": "stream",
     "text": [
      "Dataset Stats\n",
      "Roughly the number of unique words: 11492\n",
      "Number of scenes: 262\n",
      "Average number of sentences in each scene: 15.251908396946565\n",
      "Number of lines: 4258\n",
      "Average number of words in each line: 11.50164396430249\n",
      "\n",
      "The sentences 0 to 10:\n",
      "\n",
      "Moe_Szyslak: (INTO PHONE) Moe's Tavern. Where the elite meet to drink.\n",
      "Bart_Simpson: Eh, yeah, hello, is Mike there? Last name, Rotch.\n",
      "Moe_Szyslak: (INTO PHONE) Hold on, I'll check. (TO BARFLIES) Mike Rotch. Mike Rotch. Hey, has anybody seen Mike Rotch, lately?\n",
      "Moe_Szyslak: (INTO PHONE) Listen you little puke. One of these days I'm gonna catch you, and I'm gonna carve my name on your back with an ice pick.\n",
      "Moe_Szyslak: What's the matter Homer? You're not your normal effervescent self.\n",
      "Homer_Simpson: I got my problems, Moe. Give me another one.\n",
      "Moe_Szyslak: Homer, hey, you should not drink to forget your problems.\n",
      "Barney_Gumble: Yeah, you should only drink to enhance your social skills.\n",
      "\n"
     ]
    }
   ],
   "source": [
    "view_sentence_range = (0, 10)\n",
    "\n",
    "\"\"\"\n",
    "DON'T MODIFY ANYTHING IN THIS CELL\n",
    "\"\"\"\n",
    "import numpy as np\n",
    "\n",
    "print('Dataset Stats')\n",
    "print('Roughly the number of unique words: {}'.format(len({word: None for word in text.split()})))\n",
    "scenes = text.split('\\n\\n')\n",
    "print('Number of scenes: {}'.format(len(scenes)))\n",
    "sentence_count_scene = [scene.count('\\n') for scene in scenes]\n",
    "print('Average number of sentences in each scene: {}'.format(np.average(sentence_count_scene)))\n",
    "\n",
    "sentences = [sentence for scene in scenes for sentence in scene.split('\\n')]\n",
    "print('Number of lines: {}'.format(len(sentences)))\n",
    "word_count_sentence = [len(sentence.split()) for sentence in sentences]\n",
    "print('Average number of words in each line: {}'.format(np.average(word_count_sentence)))\n",
    "\n",
    "print()\n",
    "print('The sentences {} to {}:'.format(*view_sentence_range))\n",
    "print('\\n'.join(text.split('\\n')[view_sentence_range[0]:view_sentence_range[1]]))"
   ]
  },
  {
   "cell_type": "markdown",
   "metadata": {
    "deletable": true,
    "editable": true
   },
   "source": [
    "## Implement Preprocessing Functions\n",
    "The first thing to do to any dataset is preprocessing.  Implement the following preprocessing functions below:\n",
    "- Lookup Table\n",
    "- Tokenize Punctuation\n",
    "\n",
    "### Lookup Table\n",
    "To create a word embedding, you first need to transform the words to ids.  In this function, create two dictionaries:\n",
    "- Dictionary to go from the words to an id, we'll call `vocab_to_int`\n",
    "- Dictionary to go from the id to word, we'll call `int_to_vocab`\n",
    "\n",
    "Return these dictionaries in the following tuple `(vocab_to_int, int_to_vocab)`"
   ]
  },
  {
   "cell_type": "code",
   "execution_count": 135,
   "metadata": {
    "collapsed": false,
    "deletable": true,
    "editable": true
   },
   "outputs": [
    {
     "name": "stdout",
     "output_type": "stream",
     "text": [
      "Tests Passed\n"
     ]
    }
   ],
   "source": [
    "import numpy as np\n",
    "import problem_unittests as tests\n",
    "from collections import Counter\n",
    "\n",
    "def create_lookup_tables(text):\n",
    "    \"\"\"\n",
    "    Create lookup tables for vocabulary\n",
    "    :param text: The text of tv scripts split into words\n",
    "    :return: A tuple of dicts (vocab_to_int, int_to_vocab)\n",
    "    \"\"\"\n",
    "    # TODO: Implement Function\n",
    "    text = list(set(text))\n",
    "    vocab_to_int = {word:index for index,word in enumerate(text)}\n",
    "    int_to_vocab = {vocab_to_int[word]:word for index,word in enumerate(text)}\n",
    "    return vocab_to_int, int_to_vocab\n",
    "\n",
    "\n",
    "\"\"\"\n",
    "DON'T MODIFY ANYTHING IN THIS CELL THAT IS BELOW THIS LINE\n",
    "\"\"\"\n",
    "tests.test_create_lookup_tables(create_lookup_tables)"
   ]
  },
  {
   "cell_type": "markdown",
   "metadata": {
    "deletable": true,
    "editable": true
   },
   "source": [
    "### Tokenize Punctuation\n",
    "We'll be splitting the script into a word array using spaces as delimiters.  However, punctuations like periods and exclamation marks make it hard for the neural network to distinguish between the word \"bye\" and \"bye!\".\n",
    "\n",
    "Implement the function `token_lookup` to return a dict that will be used to tokenize symbols like \"!\" into \"||Exclamation_Mark||\".  Create a dictionary for the following symbols where the symbol is the key and value is the token:\n",
    "- Period ( . )\n",
    "- Comma ( , )\n",
    "- Quotation Mark ( \" )\n",
    "- Semicolon ( ; )\n",
    "- Exclamation mark ( ! )\n",
    "- Question mark ( ? )\n",
    "- Left Parentheses ( ( )\n",
    "- Right Parentheses ( ) )\n",
    "- Dash ( -- )\n",
    "- Return ( \\n )\n",
    "\n",
    "This dictionary will be used to token the symbols and add the delimiter (space) around it.  This separates the symbols as it's own word, making it easier for the neural network to predict on the next word. Make sure you don't use a token that could be confused as a word. Instead of using the token \"dash\", try using something like \"||dash||\"."
   ]
  },
  {
   "cell_type": "code",
   "execution_count": 136,
   "metadata": {
    "collapsed": false,
    "deletable": true,
    "editable": true
   },
   "outputs": [
    {
     "name": "stdout",
     "output_type": "stream",
     "text": [
      "Tests Passed\n"
     ]
    }
   ],
   "source": [
    "def token_lookup():\n",
    "    \"\"\"\n",
    "    Generate a dict to turn punctuation into a token.\n",
    "    :return: Tokenize dictionary where the key is the punctuation and the value is the token\n",
    "    \"\"\"\n",
    "    # TODO: Implement Function\n",
    "    lookup ={}\n",
    "    lookup['.']='||Period||'\n",
    "    lookup[',']='||Comma||'\n",
    "    lookup['\"']='||Quotation_Mark||'\n",
    "    lookup[';']='||Semicolon||'\n",
    "    lookup['!']='||Exclamation_Mark||'\n",
    "    lookup['?']='||Question_Mark||'\n",
    "    lookup['(']='||Left_Parentheses||'\n",
    "    lookup[')']='||Right_Parentheses||'\n",
    "    lookup['--']='||Dash||'\n",
    "    lookup['\\n']='||Return||'\n",
    "    return lookup\n",
    "\n",
    "\"\"\"\n",
    "DON'T MODIFY ANYTHING IN THIS CELL THAT IS BELOW THIS LINE\n",
    "\"\"\"\n",
    "tests.test_tokenize(token_lookup)"
   ]
  },
  {
   "cell_type": "markdown",
   "metadata": {
    "deletable": true,
    "editable": true
   },
   "source": [
    "## Preprocess all the data and save it\n",
    "Running the code cell below will preprocess all the data and save it to file."
   ]
  },
  {
   "cell_type": "code",
   "execution_count": 137,
   "metadata": {
    "collapsed": false,
    "deletable": true,
    "editable": true
   },
   "outputs": [],
   "source": [
    "\"\"\"\n",
    "DON'T MODIFY ANYTHING IN THIS CELL\n",
    "\"\"\"\n",
    "# Preprocess Training, Validation, and Testing Data\n",
    "helper.preprocess_and_save_data(data_dir, token_lookup, create_lookup_tables)"
   ]
  },
  {
   "cell_type": "markdown",
   "metadata": {
    "deletable": true,
    "editable": true
   },
   "source": [
    "# Check Point\n",
    "This is your first checkpoint. If you ever decide to come back to this notebook or have to restart the notebook, you can start from here. The preprocessed data has been saved to disk."
   ]
  },
  {
   "cell_type": "code",
   "execution_count": 138,
   "metadata": {
    "collapsed": false,
    "deletable": true,
    "editable": true
   },
   "outputs": [],
   "source": [
    "\"\"\"\n",
    "DON'T MODIFY ANYTHING IN THIS CELL\n",
    "\"\"\"\n",
    "import helper\n",
    "import numpy as np\n",
    "import problem_unittests as tests\n",
    "\n",
    "int_text, vocab_to_int, int_to_vocab, token_dict = helper.load_preprocess()"
   ]
  },
  {
   "cell_type": "markdown",
   "metadata": {
    "deletable": true,
    "editable": true
   },
   "source": [
    "## Build the Neural Network\n",
    "You'll build the components necessary to build a RNN by implementing the following functions below:\n",
    "- get_inputs\n",
    "- get_init_cell\n",
    "- get_embed\n",
    "- build_rnn\n",
    "- build_nn\n",
    "- get_batches\n",
    "\n",
    "### Check the Version of TensorFlow and Access to GPU"
   ]
  },
  {
   "cell_type": "code",
   "execution_count": 139,
   "metadata": {
    "collapsed": false
   },
   "outputs": [
    {
     "name": "stdout",
     "output_type": "stream",
     "text": [
      "TensorFlow Version: 1.0.1\n",
      "Default GPU Device: /gpu:0\n"
     ]
    }
   ],
   "source": [
    "\"\"\"\n",
    "DON'T MODIFY ANYTHING IN THIS CELL\n",
    "\"\"\"\n",
    "from distutils.version import LooseVersion\n",
    "import warnings\n",
    "import tensorflow as tf\n",
    "\n",
    "# Check TensorFlow Version\n",
    "assert LooseVersion(tf.__version__) >= LooseVersion('1.0'), 'Please use TensorFlow version 1.0 or newer'\n",
    "print('TensorFlow Version: {}'.format(tf.__version__))\n",
    "\n",
    "# Check for a GPU\n",
    "if not tf.test.gpu_device_name():\n",
    "    warnings.warn('No GPU found. Please use a GPU to train your neural network.')\n",
    "else:\n",
    "    print('Default GPU Device: {}'.format(tf.test.gpu_device_name()))"
   ]
  },
  {
   "cell_type": "markdown",
   "metadata": {},
   "source": [
    "### Input\n",
    "Implement the `get_inputs()` function to create TF Placeholders for the Neural Network.  It should create the following placeholders:\n",
    "- Input text placeholder named \"input\" using the [TF Placeholder](https://www.tensorflow.org/api_docs/python/tf/placeholder) `name` parameter.\n",
    "- Targets placeholder\n",
    "- Learning Rate placeholder\n",
    "\n",
    "Return the placeholders in the following tuple `(Input, Targets, LearningRate)`"
   ]
  },
  {
   "cell_type": "code",
   "execution_count": 140,
   "metadata": {
    "collapsed": false,
    "deletable": true,
    "editable": true
   },
   "outputs": [
    {
     "name": "stdout",
     "output_type": "stream",
     "text": [
      "Tests Passed\n"
     ]
    }
   ],
   "source": [
    "def get_inputs():\n",
    "    \"\"\"\n",
    "    Create TF Placeholders for input, targets, and learning rate.\n",
    "    :return: Tuple (input, targets, learning rate)\n",
    "    \"\"\"\n",
    "    # TODO: Implement Function\n",
    "    inputs = tf.placeholder(tf.int32,[None,None],name=\"input\")\n",
    "    targets = tf.placeholder(tf.int32,[None,None],name=\"targets\")\n",
    "    learningRate = tf.placeholder(tf.float32,name=\"learningRate\")\n",
    "    return inputs, targets, learningRate\n",
    "\n",
    "\n",
    "\"\"\"\n",
    "DON'T MODIFY ANYTHING IN THIS CELL THAT IS BELOW THIS LINE\n",
    "\"\"\"\n",
    "tests.test_get_inputs(get_inputs)"
   ]
  },
  {
   "cell_type": "markdown",
   "metadata": {
    "deletable": true,
    "editable": true
   },
   "source": [
    "### Build RNN Cell and Initialize\n",
    "Stack one or more [`BasicLSTMCells`](https://www.tensorflow.org/api_docs/python/tf/contrib/rnn/BasicLSTMCell) in a [`MultiRNNCell`](https://www.tensorflow.org/api_docs/python/tf/contrib/rnn/MultiRNNCell).\n",
    "- The Rnn size should be set using `rnn_size`\n",
    "- Initalize Cell State using the MultiRNNCell's [`zero_state()`](https://www.tensorflow.org/api_docs/python/tf/contrib/rnn/MultiRNNCell#zero_state) function\n",
    "    - Apply the name \"initial_state\" to the initial state using [`tf.identity()`](https://www.tensorflow.org/api_docs/python/tf/identity)\n",
    "\n",
    "Return the cell and initial state in the following tuple `(Cell, InitialState)`"
   ]
  },
  {
   "cell_type": "code",
   "execution_count": 155,
   "metadata": {
    "collapsed": false,
    "deletable": true,
    "editable": true
   },
   "outputs": [
    {
     "name": "stdout",
     "output_type": "stream",
     "text": [
      "Tests Passed\n"
     ]
    }
   ],
   "source": [
    "def get_init_cell(batch_size, rnn_size):\n",
    "    \"\"\"\n",
    "    Create an RNN Cell and initialize it.\n",
    "    :param batch_size: Size of batches\n",
    "    :param rnn_size: Size of RNNs\n",
    "    :return: Tuple (cell, initialize state)\n",
    "    \"\"\"\n",
    "    # TODO: Implement Function\n",
    "    cell = tf.contrib.rnn.BasicLSTMCell(rnn_size)\n",
    "    keep_prob = 0.5\n",
    "    #drop = tf.contrib.rnn.DropoutWrapper(cell, output_keep_prob=keep_prob)\n",
    "    layers = 2\n",
    "    cell = tf.contrib.rnn.MultiRNNCell([cell]*layers)\n",
    "    initialState = tf.identity(cell.zero_state(batch_size,tf.float32),name=\"initial_state\")\n",
    "    return cell, initialState\n",
    "\n",
    "\n",
    "\"\"\"\n",
    "DON'T MODIFY ANYTHING IN THIS CELL THAT IS BELOW THIS LINE\n",
    "\"\"\"\n",
    "tests.test_get_init_cell(get_init_cell)"
   ]
  },
  {
   "cell_type": "markdown",
   "metadata": {
    "deletable": true,
    "editable": true
   },
   "source": [
    "### Word Embedding\n",
    "Apply embedding to `input_data` using TensorFlow.  Return the embedded sequence."
   ]
  },
  {
   "cell_type": "code",
   "execution_count": 156,
   "metadata": {
    "collapsed": false,
    "deletable": true,
    "editable": true
   },
   "outputs": [
    {
     "name": "stdout",
     "output_type": "stream",
     "text": [
      "Tests Passed\n"
     ]
    }
   ],
   "source": [
    "def get_embed(input_data, vocab_size, embed_dim):\n",
    "    \"\"\"\n",
    "    Create embedding for <input_data>.\n",
    "    :param input_data: TF placeholder for text input.\n",
    "    :param vocab_size: Number of words in vocabulary.\n",
    "    :param embed_dim: Number of embedding dimensions\n",
    "    :return: Embedded input.\n",
    "    \"\"\"\n",
    "    # TODO: Implement Function\n",
    "    embedding = tf.Variable(tf.random_uniform((vocab_size,embed_dim),-1,1))\n",
    "    embedding = tf.nn.embedding_lookup(embedding,input_data)\n",
    "    return embedding\n",
    "\n",
    "\n",
    "\"\"\"\n",
    "DON'T MODIFY ANYTHING IN THIS CELL THAT IS BELOW THIS LINE\n",
    "\"\"\"\n",
    "tests.test_get_embed(get_embed)"
   ]
  },
  {
   "cell_type": "markdown",
   "metadata": {
    "deletable": true,
    "editable": true
   },
   "source": [
    "### Build RNN\n",
    "You created a RNN Cell in the `get_init_cell()` function.  Time to use the cell to create a RNN.\n",
    "- Build the RNN using the [`tf.nn.dynamic_rnn()`](https://www.tensorflow.org/api_docs/python/tf/nn/dynamic_rnn)\n",
    " - Apply the name \"final_state\" to the final state using [`tf.identity()`](https://www.tensorflow.org/api_docs/python/tf/identity)\n",
    "\n",
    "Return the outputs and final_state state in the following tuple `(Outputs, FinalState)` "
   ]
  },
  {
   "cell_type": "code",
   "execution_count": 157,
   "metadata": {
    "collapsed": false,
    "deletable": true,
    "editable": true
   },
   "outputs": [
    {
     "name": "stdout",
     "output_type": "stream",
     "text": [
      "Tests Passed\n"
     ]
    }
   ],
   "source": [
    "def build_rnn(cell, inputs):\n",
    "    \"\"\"\n",
    "    Create a RNN using a RNN Cell\n",
    "    :param cell: RNN Cell\n",
    "    :param inputs: Input text data\n",
    "    :return: Tuple (Outputs, Final State)\n",
    "    \"\"\"\n",
    "    # TODO: Implement Function\n",
    "    outputs , final_state = tf.nn.dynamic_rnn(cell,inputs,dtype=tf.float32)\n",
    "    finalState = tf.identity(final_state,name=\"final_state\")\n",
    "    return outputs, finalState\n",
    "\n",
    "\n",
    "\"\"\"\n",
    "DON'T MODIFY ANYTHING IN THIS CELL THAT IS BELOW THIS LINE\n",
    "\"\"\"\n",
    "tests.test_build_rnn(build_rnn)"
   ]
  },
  {
   "cell_type": "markdown",
   "metadata": {
    "deletable": true,
    "editable": true
   },
   "source": [
    "### Build the Neural Network\n",
    "Apply the functions you implemented above to:\n",
    "- Apply embedding to `input_data` using your `get_embed(input_data, vocab_size, embed_dim)` function.\n",
    "- Build RNN using `cell` and your `build_rnn(cell, inputs)` function.\n",
    "- Apply a fully connected layer with a linear activation and `vocab_size` as the number of outputs.\n",
    "\n",
    "Return the logits and final state in the following tuple (Logits, FinalState) "
   ]
  },
  {
   "cell_type": "code",
   "execution_count": 158,
   "metadata": {
    "collapsed": false,
    "deletable": true,
    "editable": true
   },
   "outputs": [
    {
     "name": "stdout",
     "output_type": "stream",
     "text": [
      "Tests Passed\n"
     ]
    }
   ],
   "source": [
    "def build_nn(cell, rnn_size, input_data, vocab_size, embed_dim):\n",
    "    \"\"\"\n",
    "    Build part of the neural network\n",
    "    :param cell: RNN cell\n",
    "    :param rnn_size: Size of rnns\n",
    "    :param input_data: Input data\n",
    "    :param vocab_size: Vocabulary size\n",
    "    :param embed_dim: Number of embedding dimensions\n",
    "    :return: Tuple (Logits, FinalState)\n",
    "    \"\"\"\n",
    "    # TODO: Implement Function\n",
    "    embed = get_embed(input_data,vocab_size,embed_dim)\n",
    "    outputs, final_state = build_rnn(cell,embed)\n",
    "    logits = tf.contrib.layers.fully_connected(outputs[:],vocab_size,activation_fn=None,weights_initializer=tf.truncated_normal_initializer(stddev=0.01))\n",
    "    return logits, final_state\n",
    "\n",
    "\n",
    "\"\"\"\n",
    "DON'T MODIFY ANYTHING IN THIS CELL THAT IS BELOW THIS LINE\n",
    "\"\"\"\n",
    "tests.test_build_nn(build_nn)"
   ]
  },
  {
   "cell_type": "markdown",
   "metadata": {
    "deletable": true,
    "editable": true
   },
   "source": [
    "### Batches\n",
    "Implement `get_batches` to create batches of input and targets using `int_text`.  The batches should be a Numpy array with the shape `(number of batches, 2, batch size, sequence length)`. Each batch contains two elements:\n",
    "- The first element is a single batch of **input** with the shape `[batch size, sequence length]`\n",
    "- The second element is a single batch of **targets** with the shape `[batch size, sequence length]`\n",
    "\n",
    "If you can't fill the last batch with enough data, drop the last batch.\n",
    "\n",
    "For exmple, `get_batches([1, 2, 3, 4, 5, 6, 7, 8, 9, 10, 11, 12, 13, 14, 15], 2, 3)` would return a Numpy array of the following:\n",
    "```\n",
    "[\n",
    "  # First Batch\n",
    "  [\n",
    "    # Batch of Input\n",
    "    [[ 1  2  3], [ 7  8  9]],\n",
    "    # Batch of targets\n",
    "    [[ 2  3  4], [ 8  9 10]]\n",
    "  ],\n",
    " \n",
    "  # Second Batch\n",
    "  [\n",
    "    # Batch of Input\n",
    "    [[ 4  5  6], [10 11 12]],\n",
    "    # Batch of targets\n",
    "    [[ 5  6  7], [11 12 13]]\n",
    "  ]\n",
    "]\n",
    "```"
   ]
  },
  {
   "cell_type": "code",
   "execution_count": 159,
   "metadata": {
    "collapsed": false,
    "deletable": true,
    "editable": true
   },
   "outputs": [
    {
     "name": "stdout",
     "output_type": "stream",
     "text": [
      "Tests Passed\n"
     ]
    }
   ],
   "source": [
    "def get_batches(int_text, batch_size, seq_length):\n",
    "    \"\"\"\n",
    "    Return batches of input and target\n",
    "    :param int_text: Text with the words replaced by their ids\n",
    "    :param batch_size: The size of batch\n",
    "    :param seq_length: The length of sequence\n",
    "    :return: Batches as a Numpy array\n",
    "    \"\"\"\n",
    "    # TODO: Implement Function\n",
    "    n_batches = len(int_text)//(batch_size * seq_length)\n",
    "    x = np.array(int_text[: n_batches * batch_size * seq_length])\n",
    "    y = np.array(int_text[1: n_batches * batch_size * seq_length + 1])\n",
    "    x_batches = np.split(x.reshape(batch_size, -1), n_batches, 1)\n",
    "    y_batches = np.split(y.reshape(batch_size, -1), n_batches, 1)\n",
    "    return np.array(list(zip(x_batches, y_batches)))\n",
    "\n",
    "\n",
    "\"\"\"\n",
    "DON'T MODIFY ANYTHING IN THIS CELL THAT IS BELOW THIS LINE\n",
    "\"\"\"\n",
    "tests.test_get_batches(get_batches)"
   ]
  },
  {
   "cell_type": "markdown",
   "metadata": {
    "deletable": true,
    "editable": true
   },
   "source": [
    "## Neural Network Training\n",
    "### Hyperparameters\n",
    "Tune the following parameters:\n",
    "\n",
    "- Set `num_epochs` to the number of epochs.\n",
    "- Set `batch_size` to the batch size.\n",
    "- Set `rnn_size` to the size of the RNNs.\n",
    "- Set `embed_dim` to the size of the embedding.\n",
    "- Set `seq_length` to the length of sequence.\n",
    "- Set `learning_rate` to the learning rate.\n",
    "- Set `show_every_n_batches` to the number of batches the neural network should print progress."
   ]
  },
  {
   "cell_type": "code",
   "execution_count": 169,
   "metadata": {
    "collapsed": true,
    "deletable": true,
    "editable": true
   },
   "outputs": [],
   "source": [
    "# Number of Epochs\n",
    "num_epochs = 100\n",
    "# Batch Size\n",
    "batch_size = 256\n",
    "# RNN Size\n",
    "rnn_size = 256\n",
    "# Embedding Dimension Size\n",
    "embed_dim = 200\n",
    "# Sequence Length\n",
    "seq_length = 20\n",
    "# Learning Rate\n",
    "learning_rate = 0.01\n",
    "# Show stats for every n number of batches\n",
    "show_every_n_batches = 5\n",
    "\n",
    "\"\"\"\n",
    "DON'T MODIFY ANYTHING IN THIS CELL THAT IS BELOW THIS LINE\n",
    "\"\"\"\n",
    "save_dir = './save'"
   ]
  },
  {
   "cell_type": "markdown",
   "metadata": {
    "deletable": true,
    "editable": true
   },
   "source": [
    "### Build the Graph\n",
    "Build the graph using the neural network you implemented."
   ]
  },
  {
   "cell_type": "code",
   "execution_count": 170,
   "metadata": {
    "collapsed": false,
    "deletable": true,
    "editable": true
   },
   "outputs": [],
   "source": [
    "\"\"\"\n",
    "DON'T MODIFY ANYTHING IN THIS CELL\n",
    "\"\"\"\n",
    "from tensorflow.contrib import seq2seq\n",
    "\n",
    "train_graph = tf.Graph()\n",
    "with train_graph.as_default():\n",
    "    vocab_size = len(int_to_vocab)\n",
    "    input_text, targets, lr = get_inputs()\n",
    "    input_data_shape = tf.shape(input_text)\n",
    "    cell, initial_state = get_init_cell(input_data_shape[0], rnn_size)\n",
    "    logits, final_state = build_nn(cell, rnn_size, input_text, vocab_size, embed_dim)\n",
    "\n",
    "    # Probabilities for generating words\n",
    "    probs = tf.nn.softmax(logits, name='probs')\n",
    "\n",
    "    # Loss function\n",
    "    cost = seq2seq.sequence_loss(\n",
    "        logits,\n",
    "        targets,\n",
    "        tf.ones([input_data_shape[0], input_data_shape[1]]))\n",
    "\n",
    "    # Optimizer\n",
    "    optimizer = tf.train.AdamOptimizer(lr)\n",
    "\n",
    "    # Gradient Clipping\n",
    "    gradients = optimizer.compute_gradients(cost)\n",
    "    capped_gradients = [(tf.clip_by_value(grad, -1., 1.), var) for grad, var in gradients if grad is not None]\n",
    "    train_op = optimizer.apply_gradients(capped_gradients)"
   ]
  },
  {
   "cell_type": "markdown",
   "metadata": {
    "deletable": true,
    "editable": true
   },
   "source": [
    "## Train\n",
    "Train the neural network on the preprocessed data.  If you have a hard time getting a good loss, check the [forms](https://discussions.udacity.com/) to see if anyone is having the same problem."
   ]
  },
  {
   "cell_type": "code",
   "execution_count": 171,
   "metadata": {
    "collapsed": false,
    "deletable": true,
    "editable": true
   },
   "outputs": [
    {
     "name": "stdout",
     "output_type": "stream",
     "text": [
      "Epoch   0 Batch    0/13   train_loss = 8.822\n",
      "Epoch   0 Batch    5/13   train_loss = 6.443\n",
      "Epoch   0 Batch   10/13   train_loss = 6.663\n",
      "Epoch   1 Batch    2/13   train_loss = 6.194\n",
      "Epoch   1 Batch    7/13   train_loss = 6.142\n",
      "Epoch   1 Batch   12/13   train_loss = 6.216\n",
      "Epoch   2 Batch    4/13   train_loss = 6.085\n",
      "Epoch   2 Batch    9/13   train_loss = 6.073\n",
      "Epoch   3 Batch    1/13   train_loss = 5.979\n",
      "Epoch   3 Batch    6/13   train_loss = 6.000\n",
      "Epoch   3 Batch   11/13   train_loss = 5.936\n",
      "Epoch   4 Batch    3/13   train_loss = 5.901\n",
      "Epoch   4 Batch    8/13   train_loss = 5.788\n",
      "Epoch   5 Batch    0/13   train_loss = 5.783\n",
      "Epoch   5 Batch    5/13   train_loss = 5.659\n",
      "Epoch   5 Batch   10/13   train_loss = 5.674\n",
      "Epoch   6 Batch    2/13   train_loss = 5.517\n",
      "Epoch   6 Batch    7/13   train_loss = 5.588\n",
      "Epoch   6 Batch   12/13   train_loss = 5.508\n",
      "Epoch   7 Batch    4/13   train_loss = 5.415\n",
      "Epoch   7 Batch    9/13   train_loss = 5.370\n",
      "Epoch   8 Batch    1/13   train_loss = 5.297\n",
      "Epoch   8 Batch    6/13   train_loss = 5.312\n",
      "Epoch   8 Batch   11/13   train_loss = 5.207\n",
      "Epoch   9 Batch    3/13   train_loss = 5.179\n",
      "Epoch   9 Batch    8/13   train_loss = 5.004\n",
      "Epoch  10 Batch    0/13   train_loss = 4.983\n",
      "Epoch  10 Batch    5/13   train_loss = 4.945\n",
      "Epoch  10 Batch   10/13   train_loss = 4.940\n",
      "Epoch  11 Batch    2/13   train_loss = 4.762\n",
      "Epoch  11 Batch    7/13   train_loss = 4.876\n",
      "Epoch  11 Batch   12/13   train_loss = 4.797\n",
      "Epoch  12 Batch    4/13   train_loss = 4.718\n",
      "Epoch  12 Batch    9/13   train_loss = 4.631\n",
      "Epoch  13 Batch    1/13   train_loss = 4.622\n",
      "Epoch  13 Batch    6/13   train_loss = 4.610\n",
      "Epoch  13 Batch   11/13   train_loss = 4.443\n",
      "Epoch  14 Batch    3/13   train_loss = 4.469\n",
      "Epoch  14 Batch    8/13   train_loss = 4.278\n",
      "Epoch  15 Batch    0/13   train_loss = 4.194\n",
      "Epoch  15 Batch    5/13   train_loss = 4.227\n",
      "Epoch  15 Batch   10/13   train_loss = 4.170\n",
      "Epoch  16 Batch    2/13   train_loss = 4.075\n",
      "Epoch  16 Batch    7/13   train_loss = 4.120\n",
      "Epoch  16 Batch   12/13   train_loss = 4.067\n",
      "Epoch  17 Batch    4/13   train_loss = 3.988\n",
      "Epoch  17 Batch    9/13   train_loss = 3.881\n",
      "Epoch  18 Batch    1/13   train_loss = 3.861\n",
      "Epoch  18 Batch    6/13   train_loss = 3.839\n",
      "Epoch  18 Batch   11/13   train_loss = 3.736\n",
      "Epoch  19 Batch    3/13   train_loss = 3.728\n",
      "Epoch  19 Batch    8/13   train_loss = 3.600\n",
      "Epoch  20 Batch    0/13   train_loss = 3.476\n",
      "Epoch  20 Batch    5/13   train_loss = 3.566\n",
      "Epoch  20 Batch   10/13   train_loss = 3.515\n",
      "Epoch  21 Batch    2/13   train_loss = 3.495\n",
      "Epoch  21 Batch    7/13   train_loss = 3.425\n",
      "Epoch  21 Batch   12/13   train_loss = 3.440\n",
      "Epoch  22 Batch    4/13   train_loss = 3.372\n",
      "Epoch  22 Batch    9/13   train_loss = 3.245\n",
      "Epoch  23 Batch    1/13   train_loss = 3.167\n",
      "Epoch  23 Batch    6/13   train_loss = 3.197\n",
      "Epoch  23 Batch   11/13   train_loss = 3.089\n",
      "Epoch  24 Batch    3/13   train_loss = 3.065\n",
      "Epoch  24 Batch    8/13   train_loss = 2.986\n",
      "Epoch  25 Batch    0/13   train_loss = 2.849\n",
      "Epoch  25 Batch    5/13   train_loss = 2.975\n",
      "Epoch  25 Batch   10/13   train_loss = 2.940\n",
      "Epoch  26 Batch    2/13   train_loss = 2.894\n",
      "Epoch  26 Batch    7/13   train_loss = 2.854\n",
      "Epoch  26 Batch   12/13   train_loss = 2.897\n",
      "Epoch  27 Batch    4/13   train_loss = 2.822\n",
      "Epoch  27 Batch    9/13   train_loss = 2.792\n",
      "Epoch  28 Batch    1/13   train_loss = 2.772\n",
      "Epoch  28 Batch    6/13   train_loss = 2.697\n",
      "Epoch  28 Batch   11/13   train_loss = 2.707\n",
      "Epoch  29 Batch    3/13   train_loss = 2.701\n",
      "Epoch  29 Batch    8/13   train_loss = 2.554\n",
      "Epoch  30 Batch    0/13   train_loss = 2.436\n",
      "Epoch  30 Batch    5/13   train_loss = 2.522\n",
      "Epoch  30 Batch   10/13   train_loss = 2.409\n",
      "Epoch  31 Batch    2/13   train_loss = 2.436\n",
      "Epoch  31 Batch    7/13   train_loss = 2.288\n",
      "Epoch  31 Batch   12/13   train_loss = 2.301\n",
      "Epoch  32 Batch    4/13   train_loss = 2.253\n",
      "Epoch  32 Batch    9/13   train_loss = 2.151\n",
      "Epoch  33 Batch    1/13   train_loss = 2.097\n",
      "Epoch  33 Batch    6/13   train_loss = 2.056\n",
      "Epoch  33 Batch   11/13   train_loss = 2.027\n",
      "Epoch  34 Batch    3/13   train_loss = 1.997\n",
      "Epoch  34 Batch    8/13   train_loss = 1.904\n",
      "Epoch  35 Batch    0/13   train_loss = 1.813\n",
      "Epoch  35 Batch    5/13   train_loss = 1.902\n",
      "Epoch  35 Batch   10/13   train_loss = 1.809\n",
      "Epoch  36 Batch    2/13   train_loss = 1.869\n",
      "Epoch  36 Batch    7/13   train_loss = 1.729\n",
      "Epoch  36 Batch   12/13   train_loss = 1.782\n",
      "Epoch  37 Batch    4/13   train_loss = 1.760\n",
      "Epoch  37 Batch    9/13   train_loss = 1.669\n",
      "Epoch  38 Batch    1/13   train_loss = 1.634\n",
      "Epoch  38 Batch    6/13   train_loss = 1.636\n",
      "Epoch  38 Batch   11/13   train_loss = 1.585\n",
      "Epoch  39 Batch    3/13   train_loss = 1.628\n",
      "Epoch  39 Batch    8/13   train_loss = 1.554\n",
      "Epoch  40 Batch    0/13   train_loss = 1.462\n",
      "Epoch  40 Batch    5/13   train_loss = 1.559\n",
      "Epoch  40 Batch   10/13   train_loss = 1.436\n",
      "Epoch  41 Batch    2/13   train_loss = 1.536\n",
      "Epoch  41 Batch    7/13   train_loss = 1.403\n",
      "Epoch  41 Batch   12/13   train_loss = 1.423\n",
      "Epoch  42 Batch    4/13   train_loss = 1.445\n",
      "Epoch  42 Batch    9/13   train_loss = 1.314\n",
      "Epoch  43 Batch    1/13   train_loss = 1.296\n",
      "Epoch  43 Batch    6/13   train_loss = 1.296\n",
      "Epoch  43 Batch   11/13   train_loss = 1.232\n",
      "Epoch  44 Batch    3/13   train_loss = 1.288\n",
      "Epoch  44 Batch    8/13   train_loss = 1.243\n",
      "Epoch  45 Batch    0/13   train_loss = 1.099\n",
      "Epoch  45 Batch    5/13   train_loss = 1.241\n",
      "Epoch  45 Batch   10/13   train_loss = 1.179\n",
      "Epoch  46 Batch    2/13   train_loss = 1.243\n",
      "Epoch  46 Batch    7/13   train_loss = 1.147\n",
      "Epoch  46 Batch   12/13   train_loss = 1.188\n",
      "Epoch  47 Batch    4/13   train_loss = 1.244\n",
      "Epoch  47 Batch    9/13   train_loss = 1.138\n",
      "Epoch  48 Batch    1/13   train_loss = 1.130\n",
      "Epoch  48 Batch    6/13   train_loss = 1.148\n",
      "Epoch  48 Batch   11/13   train_loss = 1.122\n",
      "Epoch  49 Batch    3/13   train_loss = 1.156\n",
      "Epoch  49 Batch    8/13   train_loss = 1.098\n",
      "Epoch  50 Batch    0/13   train_loss = 1.021\n",
      "Epoch  50 Batch    5/13   train_loss = 1.113\n",
      "Epoch  50 Batch   10/13   train_loss = 0.998\n",
      "Epoch  51 Batch    2/13   train_loss = 1.104\n",
      "Epoch  51 Batch    7/13   train_loss = 1.004\n",
      "Epoch  51 Batch   12/13   train_loss = 0.981\n",
      "Epoch  52 Batch    4/13   train_loss = 1.004\n",
      "Epoch  52 Batch    9/13   train_loss = 0.901\n",
      "Epoch  53 Batch    1/13   train_loss = 0.872\n",
      "Epoch  53 Batch    6/13   train_loss = 0.839\n",
      "Epoch  53 Batch   11/13   train_loss = 0.830\n",
      "Epoch  54 Batch    3/13   train_loss = 0.857\n",
      "Epoch  54 Batch    8/13   train_loss = 0.768\n",
      "Epoch  55 Batch    0/13   train_loss = 0.706\n",
      "Epoch  55 Batch    5/13   train_loss = 0.746\n",
      "Epoch  55 Batch   10/13   train_loss = 0.676\n",
      "Epoch  56 Batch    2/13   train_loss = 0.731\n",
      "Epoch  56 Batch    7/13   train_loss = 0.645\n",
      "Epoch  56 Batch   12/13   train_loss = 0.658\n",
      "Epoch  57 Batch    4/13   train_loss = 0.685\n",
      "Epoch  57 Batch    9/13   train_loss = 0.595\n",
      "Epoch  58 Batch    1/13   train_loss = 0.583\n",
      "Epoch  58 Batch    6/13   train_loss = 0.604\n",
      "Epoch  58 Batch   11/13   train_loss = 0.584\n",
      "Epoch  59 Batch    3/13   train_loss = 0.604\n",
      "Epoch  59 Batch    8/13   train_loss = 0.594\n",
      "Epoch  60 Batch    0/13   train_loss = 0.516\n",
      "Epoch  60 Batch    5/13   train_loss = 0.570\n",
      "Epoch  60 Batch   10/13   train_loss = 0.565\n",
      "Epoch  61 Batch    2/13   train_loss = 0.597\n",
      "Epoch  61 Batch    7/13   train_loss = 0.526\n",
      "Epoch  61 Batch   12/13   train_loss = 0.589\n",
      "Epoch  62 Batch    4/13   train_loss = 0.612\n",
      "Epoch  62 Batch    9/13   train_loss = 0.517\n",
      "Epoch  63 Batch    1/13   train_loss = 0.549\n",
      "Epoch  63 Batch    6/13   train_loss = 0.558\n",
      "Epoch  63 Batch   11/13   train_loss = 0.563\n",
      "Epoch  64 Batch    3/13   train_loss = 0.623\n",
      "Epoch  64 Batch    8/13   train_loss = 0.556\n",
      "Epoch  65 Batch    0/13   train_loss = 0.515\n",
      "Epoch  65 Batch    5/13   train_loss = 0.614\n",
      "Epoch  65 Batch   10/13   train_loss = 0.522\n",
      "Epoch  66 Batch    2/13   train_loss = 0.613\n",
      "Epoch  66 Batch    7/13   train_loss = 0.613\n",
      "Epoch  66 Batch   12/13   train_loss = 0.581\n",
      "Epoch  67 Batch    4/13   train_loss = 0.614\n",
      "Epoch  67 Batch    9/13   train_loss = 0.561\n",
      "Epoch  68 Batch    1/13   train_loss = 0.540\n",
      "Epoch  68 Batch    6/13   train_loss = 0.522\n",
      "Epoch  68 Batch   11/13   train_loss = 0.558\n",
      "Epoch  69 Batch    3/13   train_loss = 0.562\n",
      "Epoch  69 Batch    8/13   train_loss = 0.486\n",
      "Epoch  70 Batch    0/13   train_loss = 0.471\n",
      "Epoch  70 Batch    5/13   train_loss = 0.501\n",
      "Epoch  70 Batch   10/13   train_loss = 0.437\n",
      "Epoch  71 Batch    2/13   train_loss = 0.505\n",
      "Epoch  71 Batch    7/13   train_loss = 0.451\n",
      "Epoch  71 Batch   12/13   train_loss = 0.440\n",
      "Epoch  72 Batch    4/13   train_loss = 0.484\n",
      "Epoch  72 Batch    9/13   train_loss = 0.433\n",
      "Epoch  73 Batch    1/13   train_loss = 0.406\n",
      "Epoch  73 Batch    6/13   train_loss = 0.431\n",
      "Epoch  73 Batch   11/13   train_loss = 0.426\n",
      "Epoch  74 Batch    3/13   train_loss = 0.408\n",
      "Epoch  74 Batch    8/13   train_loss = 0.410\n",
      "Epoch  75 Batch    0/13   train_loss = 0.347\n",
      "Epoch  75 Batch    5/13   train_loss = 0.369\n",
      "Epoch  75 Batch   10/13   train_loss = 0.358\n",
      "Epoch  76 Batch    2/13   train_loss = 0.373\n",
      "Epoch  76 Batch    7/13   train_loss = 0.340\n",
      "Epoch  76 Batch   12/13   train_loss = 0.330\n",
      "Epoch  77 Batch    4/13   train_loss = 0.350\n",
      "Epoch  77 Batch    9/13   train_loss = 0.304\n",
      "Epoch  78 Batch    1/13   train_loss = 0.291\n",
      "Epoch  78 Batch    6/13   train_loss = 0.292\n",
      "Epoch  78 Batch   11/13   train_loss = 0.310\n",
      "Epoch  79 Batch    3/13   train_loss = 0.297\n",
      "Epoch  79 Batch    8/13   train_loss = 0.279\n",
      "Epoch  80 Batch    0/13   train_loss = 0.244\n",
      "Epoch  80 Batch    5/13   train_loss = 0.269\n",
      "Epoch  80 Batch   10/13   train_loss = 0.255\n",
      "Epoch  81 Batch    2/13   train_loss = 0.269\n",
      "Epoch  81 Batch    7/13   train_loss = 0.246\n",
      "Epoch  81 Batch   12/13   train_loss = 0.248\n",
      "Epoch  82 Batch    4/13   train_loss = 0.262\n",
      "Epoch  82 Batch    9/13   train_loss = 0.228\n",
      "Epoch  83 Batch    1/13   train_loss = 0.239\n",
      "Epoch  83 Batch    6/13   train_loss = 0.247\n",
      "Epoch  83 Batch   11/13   train_loss = 0.225\n",
      "Epoch  84 Batch    3/13   train_loss = 0.251\n",
      "Epoch  84 Batch    8/13   train_loss = 0.237\n",
      "Epoch  85 Batch    0/13   train_loss = 0.191\n",
      "Epoch  85 Batch    5/13   train_loss = 0.237\n",
      "Epoch  85 Batch   10/13   train_loss = 0.217\n",
      "Epoch  86 Batch    2/13   train_loss = 0.224\n",
      "Epoch  86 Batch    7/13   train_loss = 0.229\n",
      "Epoch  86 Batch   12/13   train_loss = 0.205\n",
      "Epoch  87 Batch    4/13   train_loss = 0.224\n",
      "Epoch  87 Batch    9/13   train_loss = 0.200\n",
      "Epoch  88 Batch    1/13   train_loss = 0.202\n",
      "Epoch  88 Batch    6/13   train_loss = 0.206\n",
      "Epoch  88 Batch   11/13   train_loss = 0.196\n",
      "Epoch  89 Batch    3/13   train_loss = 0.208\n",
      "Epoch  89 Batch    8/13   train_loss = 0.186\n",
      "Epoch  90 Batch    0/13   train_loss = 0.168\n",
      "Epoch  90 Batch    5/13   train_loss = 0.190\n",
      "Epoch  90 Batch   10/13   train_loss = 0.180\n",
      "Epoch  91 Batch    2/13   train_loss = 0.195\n",
      "Epoch  91 Batch    7/13   train_loss = 0.185\n",
      "Epoch  91 Batch   12/13   train_loss = 0.177\n",
      "Epoch  92 Batch    4/13   train_loss = 0.188\n",
      "Epoch  92 Batch    9/13   train_loss = 0.176\n",
      "Epoch  93 Batch    1/13   train_loss = 0.179\n",
      "Epoch  93 Batch    6/13   train_loss = 0.183\n",
      "Epoch  93 Batch   11/13   train_loss = 0.178\n",
      "Epoch  94 Batch    3/13   train_loss = 0.187\n",
      "Epoch  94 Batch    8/13   train_loss = 0.168\n",
      "Epoch  95 Batch    0/13   train_loss = 0.156\n",
      "Epoch  95 Batch    5/13   train_loss = 0.174\n",
      "Epoch  95 Batch   10/13   train_loss = 0.168\n",
      "Epoch  96 Batch    2/13   train_loss = 0.183\n",
      "Epoch  96 Batch    7/13   train_loss = 0.173\n",
      "Epoch  96 Batch   12/13   train_loss = 0.166\n",
      "Epoch  97 Batch    4/13   train_loss = 0.179\n",
      "Epoch  97 Batch    9/13   train_loss = 0.167\n",
      "Epoch  98 Batch    1/13   train_loss = 0.170\n",
      "Epoch  98 Batch    6/13   train_loss = 0.174\n",
      "Epoch  98 Batch   11/13   train_loss = 0.169\n",
      "Epoch  99 Batch    3/13   train_loss = 0.177\n",
      "Epoch  99 Batch    8/13   train_loss = 0.160\n",
      "Model Trained and Saved\n"
     ]
    }
   ],
   "source": [
    "\"\"\"\n",
    "DON'T MODIFY ANYTHING IN THIS CELL\n",
    "\"\"\"\n",
    "batches = get_batches(int_text, batch_size, seq_length)\n",
    "\n",
    "with tf.Session(graph=train_graph) as sess:\n",
    "    sess.run(tf.global_variables_initializer())\n",
    "\n",
    "    for epoch_i in range(num_epochs):\n",
    "        state = sess.run(initial_state, {input_text: batches[0][0]})\n",
    "\n",
    "        for batch_i, (x, y) in enumerate(batches):\n",
    "            feed = {\n",
    "                input_text: x,\n",
    "                targets: y,\n",
    "                initial_state: state,\n",
    "                lr: learning_rate}\n",
    "            train_loss, state, _ = sess.run([cost, final_state, train_op], feed)\n",
    "\n",
    "            # Show every <show_every_n_batches> batches\n",
    "            if (epoch_i * len(batches) + batch_i) % show_every_n_batches == 0:\n",
    "                print('Epoch {:>3} Batch {:>4}/{}   train_loss = {:.3f}'.format(\n",
    "                    epoch_i,\n",
    "                    batch_i,\n",
    "                    len(batches),\n",
    "                    train_loss))\n",
    "\n",
    "    # Save Model\n",
    "    saver = tf.train.Saver()\n",
    "    saver.save(sess, save_dir)\n",
    "    print('Model Trained and Saved')"
   ]
  },
  {
   "cell_type": "markdown",
   "metadata": {
    "deletable": true,
    "editable": true
   },
   "source": [
    "## Save Parameters\n",
    "Save `seq_length` and `save_dir` for generating a new TV script."
   ]
  },
  {
   "cell_type": "code",
   "execution_count": 172,
   "metadata": {
    "collapsed": false,
    "deletable": true,
    "editable": true
   },
   "outputs": [],
   "source": [
    "\"\"\"\n",
    "DON'T MODIFY ANYTHING IN THIS CELL\n",
    "\"\"\"\n",
    "# Save parameters for checkpoint\n",
    "helper.save_params((seq_length, save_dir))"
   ]
  },
  {
   "cell_type": "markdown",
   "metadata": {
    "deletable": true,
    "editable": true
   },
   "source": [
    "# Checkpoint"
   ]
  },
  {
   "cell_type": "code",
   "execution_count": 173,
   "metadata": {
    "collapsed": false,
    "deletable": true,
    "editable": true
   },
   "outputs": [],
   "source": [
    "\"\"\"\n",
    "DON'T MODIFY ANYTHING IN THIS CELL\n",
    "\"\"\"\n",
    "import tensorflow as tf\n",
    "import numpy as np\n",
    "import helper\n",
    "import problem_unittests as tests\n",
    "\n",
    "_, vocab_to_int, int_to_vocab, token_dict = helper.load_preprocess()\n",
    "seq_length, load_dir = helper.load_params()"
   ]
  },
  {
   "cell_type": "markdown",
   "metadata": {
    "deletable": true,
    "editable": true
   },
   "source": [
    "## Implement Generate Functions\n",
    "### Get Tensors\n",
    "Get tensors from `loaded_graph` using the function [`get_tensor_by_name()`](https://www.tensorflow.org/api_docs/python/tf/Graph#get_tensor_by_name).  Get the tensors using the following names:\n",
    "- \"input:0\"\n",
    "- \"initial_state:0\"\n",
    "- \"final_state:0\"\n",
    "- \"probs:0\"\n",
    "\n",
    "Return the tensors in the following tuple `(InputTensor, InitialStateTensor, FinalStateTensor, ProbsTensor)` "
   ]
  },
  {
   "cell_type": "code",
   "execution_count": 174,
   "metadata": {
    "collapsed": false,
    "deletable": true,
    "editable": true
   },
   "outputs": [
    {
     "name": "stdout",
     "output_type": "stream",
     "text": [
      "Tests Passed\n"
     ]
    }
   ],
   "source": [
    "def get_tensors(loaded_graph):\n",
    "    \"\"\"\n",
    "    Get input, initial state, final state, and probabilities tensor from <loaded_graph>\n",
    "    :param loaded_graph: TensorFlow graph loaded from file\n",
    "    :return: Tuple (InputTensor, InitialStateTensor, FinalStateTensor, ProbsTensor)\n",
    "    \"\"\"\n",
    "    # TODO: Implement Function\n",
    "    return loaded_graph.get_tensor_by_name(\"input:0\"), loaded_graph.get_tensor_by_name(\"initial_state:0\"), loaded_graph.get_tensor_by_name(\"final_state:0\"), loaded_graph.get_tensor_by_name(\"probs:0\")\n",
    "\n",
    "\n",
    "\"\"\"\n",
    "DON'T MODIFY ANYTHING IN THIS CELL THAT IS BELOW THIS LINE\n",
    "\"\"\"\n",
    "tests.test_get_tensors(get_tensors)"
   ]
  },
  {
   "cell_type": "markdown",
   "metadata": {
    "deletable": true,
    "editable": true
   },
   "source": [
    "### Choose Word\n",
    "Implement the `pick_word()` function to select the next word using `probabilities`."
   ]
  },
  {
   "cell_type": "code",
   "execution_count": 175,
   "metadata": {
    "collapsed": false,
    "deletable": true,
    "editable": true
   },
   "outputs": [
    {
     "name": "stdout",
     "output_type": "stream",
     "text": [
      "Tests Passed\n"
     ]
    }
   ],
   "source": [
    "def pick_word(probabilities, int_to_vocab):\n",
    "    \"\"\"\n",
    "    Pick the next word in the generated text\n",
    "    :param probabilities: Probabilites of the next word\n",
    "    :param int_to_vocab: Dictionary of word ids as the keys and words as the values\n",
    "    :return: String of the predicted word\n",
    "    \"\"\"\n",
    "    # TODO: Implement Function\n",
    "    return np.random.choice(list(int_to_vocab.values()),p=probabilities)\n",
    "\n",
    "\n",
    "\"\"\"\n",
    "DON'T MODIFY ANYTHING IN THIS CELL THAT IS BELOW THIS LINE\n",
    "\"\"\"\n",
    "tests.test_pick_word(pick_word)"
   ]
  },
  {
   "cell_type": "markdown",
   "metadata": {
    "deletable": true,
    "editable": true
   },
   "source": [
    "## Generate TV Script\n",
    "This will generate the TV script for you.  Set `gen_length` to the length of TV script you want to generate."
   ]
  },
  {
   "cell_type": "code",
   "execution_count": 176,
   "metadata": {
    "collapsed": false,
    "deletable": true,
    "editable": true
   },
   "outputs": [
    {
     "name": "stdout",
     "output_type": "stream",
     "text": [
      "moe_szyslak:(on phone) ura snotball?\n",
      "\n",
      "\n",
      "moe_szyslak: say, ah, barn. remember when i do?\n",
      "chief_wiggum:(sternly) there was a domestic fire homer would make my ancestors uh... oh yeah. and you want your eyeball off off my house and i'm an hero.\n",
      "homer_simpson: get out of the fire was trying.\n",
      "apu_nahasapeemapetilon:(laughs) usually i ever go, little fella.\n",
      "moe_szyslak: oh,, well look more.\n",
      "moe_szyslak: well, somebody's me the tap! is your bets.\n",
      "lisa_simpson: i not vote.\" homer, i whenever i could even buy a woman.\n",
      "moe_szyslak: oh, what do you say you'd be a beer, the time flew, homer today.\n",
      "barney_gumble: why right, they probably put into a girl scout meeting.\n",
      "barney_gumble: is it for our restaurant chain.\n",
      "homer_simpson:(aggravated) watch a glove bed with their special seconds.(hears) okay. who proves my mouth and wide with a cow looking.\n",
      "homer_simpson:(tipsy) marge\n"
     ]
    }
   ],
   "source": [
    "gen_length = 200\n",
    "# homer_simpson, moe_szyslak, or Barney_Gumble\n",
    "prime_word = 'moe_szyslak'\n",
    "\n",
    "\"\"\"\n",
    "DON'T MODIFY ANYTHING IN THIS CELL THAT IS BELOW THIS LINE\n",
    "\"\"\"\n",
    "loaded_graph = tf.Graph()\n",
    "with tf.Session(graph=loaded_graph) as sess:\n",
    "    # Load saved model\n",
    "    loader = tf.train.import_meta_graph(load_dir + '.meta')\n",
    "    loader.restore(sess, load_dir)\n",
    "\n",
    "    # Get Tensors from loaded model\n",
    "    input_text, initial_state, final_state, probs = get_tensors(loaded_graph)\n",
    "\n",
    "    # Sentences generation setup\n",
    "    gen_sentences = [prime_word + ':']\n",
    "    prev_state = sess.run(initial_state, {input_text: np.array([[1]])})\n",
    "\n",
    "    # Generate sentences\n",
    "    for n in range(gen_length):\n",
    "        # Dynamic Input\n",
    "        dyn_input = [[vocab_to_int[word] for word in gen_sentences[-seq_length:]]]\n",
    "        dyn_seq_length = len(dyn_input[0])\n",
    "\n",
    "        # Get Prediction\n",
    "        probabilities, prev_state = sess.run(\n",
    "            [probs, final_state],\n",
    "            {input_text: dyn_input, initial_state: prev_state})\n",
    "        \n",
    "        pred_word = pick_word(probabilities[dyn_seq_length-1], int_to_vocab)\n",
    "\n",
    "        gen_sentences.append(pred_word)\n",
    "    \n",
    "    # Remove tokens\n",
    "    tv_script = ' '.join(gen_sentences)\n",
    "    for key, token in token_dict.items():\n",
    "        ending = ' ' if key in ['\\n', '(', '\"'] else ''\n",
    "        tv_script = tv_script.replace(' ' + token.lower(), key)\n",
    "    tv_script = tv_script.replace('\\n ', '\\n')\n",
    "    tv_script = tv_script.replace('( ', '(')\n",
    "        \n",
    "    print(tv_script)"
   ]
  },
  {
   "cell_type": "markdown",
   "metadata": {
    "deletable": true,
    "editable": true
   },
   "source": [
    "# The TV Script is Nonsensical\n",
    "It's ok if the TV script doesn't make any sense.  We trained on less than a megabyte of text.  In order to get good results, you'll have to use a smaller vocabulary or get more data.  Luckly there's more data!  As we mentioned in the begging of this project, this is a subset of [another dataset](https://www.kaggle.com/wcukierski/the-simpsons-by-the-data).  We didn't have you train on all the data, because that would take too long.  However, you are free to train your neural network on all the data.  After you complete the project, of course.\n",
    "# Submitting This Project\n",
    "When submitting this project, make sure to run all the cells before saving the notebook. Save the notebook file as \"dlnd_tv_script_generation.ipynb\" and save it as a HTML file under \"File\" -> \"Download as\". Include the \"helper.py\" and \"problem_unittests.py\" files in your submission."
   ]
  }
 ],
 "metadata": {
  "kernelspec": {
   "display_name": "Python 3",
   "language": "python",
   "name": "python3"
  },
  "language_info": {
   "codemirror_mode": {
    "name": "ipython",
    "version": 3
   },
   "file_extension": ".py",
   "mimetype": "text/x-python",
   "name": "python",
   "nbconvert_exporter": "python",
   "pygments_lexer": "ipython3",
   "version": "3.5.3"
  }
 },
 "nbformat": 4,
 "nbformat_minor": 0
}
